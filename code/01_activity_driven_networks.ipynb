{
 "cells": [
  {
   "cell_type": "markdown",
   "metadata": {},
   "source": [
    "# 01. Activity Driven Networks\n",
    "\n",
    "In this notebook, we will create a simple python code that generates a temporal network considering the activity driven framework."
   ]
  },
  {
   "cell_type": "code",
   "execution_count": null,
   "metadata": {},
   "outputs": [],
   "source": [
    "import random\n",
    "import matplotlib.pyplot as plt\n",
    "import seaborn as sns\n",
    "import numpy as np \n",
    "import networkx as nx"
   ]
  },
  {
   "cell_type": "markdown",
   "metadata": {},
   "source": [
    "### 1. Sample Activities\n",
    "\n",
    "As a first exercise, we define a function that samples the activity from a power law distribution:\n",
    "\n",
    "\n",
    "$$F(a) \\sim a^{-\\alpha}$$"
   ]
  },
  {
   "cell_type": "code",
   "execution_count": null,
   "metadata": {},
   "outputs": [],
   "source": [
    "def sample_activity(eps, alpha):\n",
    "    \"\"\"\n",
    "    This function samples the activity from a distribution F(a) ~ a^-alpha\n",
    "    Parameters\n",
    "    ----------\n",
    "        @param eps: the minimum activity value\n",
    "        @param alpha: the exponent of the power law distribution\n",
    "    Returns\n",
    "    -------\n",
    "        @return: the sampled activity\n",
    "    \"\"\"\n",
    "    y = random.random()\n",
    "    a = (y + (1 - y) * (eps ** (1 - alpha))) ** (1 / (1 - alpha))\n",
    "    return a"
   ]
  },
  {
   "cell_type": "markdown",
   "metadata": {},
   "source": [
    "We test the function sampling $10^6$ activities considering a distribution with $\\alpha=2.1$ and the minimum activity value $\\epsilon=10^{-3}$ (to avoid divergence near the origin):"
   ]
  },
  {
   "cell_type": "code",
   "execution_count": null,
   "metadata": {},
   "outputs": [],
   "source": [
    "# sample 10**6 activities and plot their distribution\n"
   ]
  },
  {
   "cell_type": "markdown",
   "metadata": {},
   "source": [
    "### 2. Simulate Network (Random Partner Selection)\n",
    "\n",
    "As a second exercise, we define a functions that generates the temporal network using the activity driven framework with random partner selection.\n"
   ]
  },
  {
   "cell_type": "code",
   "execution_count": null,
   "metadata": {},
   "outputs": [],
   "source": [
    "def sample_neighbours(index, m, N):\n",
    "    \"\"\"\n",
    "    This function samples the neighbours\n",
    "    Parameters\n",
    "    ----------\n",
    "        @param index: source node index\n",
    "        @param m: number of neighbours to sample\n",
    "        @param N: total number of nodes\n",
    "    Returns\n",
    "    -------\n",
    "        @return: the sampled neighbours\n",
    "    \"\"\"\n",
    "    return 0\n",
    "\n",
    "\n",
    "def get_adn_network(T, N, eps, alpha, m):\n",
    "    \"\"\"\n",
    "    This function generates a temporal network using the activity\n",
    "    driven framework\n",
    "    Parameters\n",
    "    ----------\n",
    "        @param T: number of timesteps\n",
    "        @param N: total number of nodes\n",
    "        @param eps: the minimum activity value\n",
    "        @param alpha: the exponent of the power law distribution\n",
    "        @param m: number of neighbours to sample\n",
    "    Returns\n",
    "    -------\n",
    "        @return: the total aggragated network, the timestep networks, \n",
    "                 and the time aggregated networks at different timesteps\n",
    "    \"\"\"\n",
    "    # initialize activities\n",
    "    \n",
    "    # simulate \n",
    "\n",
    "    return 0 \n",
    "\n",
    "\n",
    "def plot_network(G, k, ax=None):\n",
    "    \"\"\"\n",
    "    This function plots a given network\n",
    "    Parameters\n",
    "    ----------\n",
    "        @param G: the network to plot (nx.Graph object)\n",
    "        @param k: plotting parameter\n",
    "        @param ax: axes object, defaults to None\n",
    "    \"\"\"\n",
    "    if ax == None:\n",
    "        fig, ax = plt.subplots(dpi=300)\n",
    "\n",
    "    d = dict(G.degree)\n",
    "    nx.draw(G, \n",
    "            nodelist=d.keys(), \n",
    "            pos=nx.spring_layout(G, k=k),\n",
    "            width=0.1, \n",
    "            node_size=[v for v in d.values()], \n",
    "            node_color=[v for v in d.values()], \n",
    "            cmap=sns.color_palette(\"crest\", as_cmap=True), \n",
    "            ax=ax)"
   ]
  },
  {
   "cell_type": "markdown",
   "metadata": {},
   "source": [
    "We test the functions generating a network with $5,000$ nodes over 20 timesteps and plotting the time-varying network at different timesteps:"
   ]
  },
  {
   "cell_type": "code",
   "execution_count": null,
   "metadata": {},
   "outputs": [],
   "source": [
    "#... = get_adn_network(T=20, N=5000, eps=10**-3, alpha=2.1, m=10)\n",
    "fig, axes = plt.subplots(dpi=300, ncols=3, figsize=(10,3))"
   ]
  },
  {
   "cell_type": "markdown",
   "metadata": {},
   "source": [
    "Additionally, we also plot the aggregated network at different time steps:"
   ]
  },
  {
   "cell_type": "code",
   "execution_count": null,
   "metadata": {},
   "outputs": [],
   "source": [
    "fig, axes = plt.subplots(dpi=300, ncols=3, figsize=(10,3))"
   ]
  },
  {
   "cell_type": "markdown",
   "metadata": {},
   "source": [
    "### 3. Simulate Network (Communities)\n",
    "\n",
    "As a third exercise, we define a functions that generates the temporal network using the activity driven framework with communities.\n",
    "\n",
    "For simplicity, we will assume equal communities with fixed size."
   ]
  },
  {
   "cell_type": "code",
   "execution_count": null,
   "metadata": {},
   "outputs": [],
   "source": [
    "def sample_neighbours_community(index, m, nodes_list):\n",
    "    \"\"\"\n",
    "    This function samples the neighbours in the case of communities\n",
    "    Parameters\n",
    "    ----------\n",
    "        @param index: source node index\n",
    "        @param m: number of neighbours to sample\n",
    "        @param nodes_list: list of nodes in a community\n",
    "    Returns\n",
    "    -------\n",
    "        @return: the sampled neighbours\n",
    "    \"\"\"\n",
    "    return np.random.choice([idx for idx in nodes_list if idx != index], size=m)\n",
    "\n",
    "\n",
    "def get_adn_network_community(T, N, eps, alpha, m, eta, community_size=10):\n",
    "    \"\"\"\n",
    "    This function generates a temporal network using the activity\n",
    "    driven framework with communities\n",
    "    Parameters\n",
    "    ----------\n",
    "        @param T: number of timesteps\n",
    "        @param N: total number of nodes\n",
    "        @param eps: the minimum activity value\n",
    "        @param alpha: the exponent of the power law distribution\n",
    "        @param m: number of neighbours to sample\n",
    "        @param eta: network modularity parameter\n",
    "        @param community_size: size of each community\n",
    "    Returns\n",
    "    -------\n",
    "        @return: the total aggragated network, the timestep networks, \n",
    "                 and the time aggregated networks at different timesteps\n",
    "    \"\"\"\n",
    "    # initialize activities\n",
    "\n",
    "    # initialize communities \n",
    " \n",
    "    # simulate \n",
    "    \n",
    "    return 0"
   ]
  },
  {
   "cell_type": "code",
   "execution_count": null,
   "metadata": {},
   "outputs": [],
   "source": [
    "# graph with three disconnected components\n",
    "# ... = get_adn_network_community(T=20, N=6000, eps=10**-3, alpha=2.1, m=10, eta=1.0, community_size=2000)\n",
    "\n",
    "# check its connected components"
   ]
  },
  {
   "cell_type": "code",
   "execution_count": null,
   "metadata": {},
   "outputs": [],
   "source": []
  }
 ],
 "metadata": {
  "kernelspec": {
   "display_name": "base",
   "language": "python",
   "name": "python3"
  },
  "language_info": {
   "codemirror_mode": {
    "name": "ipython",
    "version": 3
   },
   "file_extension": ".py",
   "mimetype": "text/x-python",
   "name": "python",
   "nbconvert_exporter": "python",
   "pygments_lexer": "ipython3",
   "version": "3.8.8"
  }
 },
 "nbformat": 4,
 "nbformat_minor": 2
}
