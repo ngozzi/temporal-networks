{
 "cells": [
  {
   "cell_type": "markdown",
   "metadata": {},
   "source": [
    "# 02. Epidemic Spreading on Activity Driven Networks\n",
    "\n",
    "In this notebook, we will create a simple python code that simulate a simple SIR model on activity driven networks.\n"
   ]
  },
  {
   "cell_type": "code",
   "execution_count": null,
   "metadata": {},
   "outputs": [],
   "source": [
    "import random\n",
    "import matplotlib.pyplot as plt\n",
    "import seaborn as sns\n",
    "import numpy as np \n",
    "import networkx as nx"
   ]
  },
  {
   "cell_type": "markdown",
   "metadata": {},
   "source": [
    "We consider a simple SIR model described by the following transitions:\n",
    "$$S + I \\xrightarrow{\\lambda} 2I$$\n",
    "$$I \\xrightarrow{\\mu} R$$\n",
    "\n",
    "First, we import the function to generate activity driven network from notebook `01_activity_driven_networks.ipynb`:"
   ]
  },
  {
   "cell_type": "code",
   "execution_count": null,
   "metadata": {},
   "outputs": [],
   "source": [
    "def sample_activity(eps, alpha):\n",
    "    \"\"\"\n",
    "    This function samples the activity from a distribution F(a) ~ a^-alpha\n",
    "    Parameters\n",
    "    ----------\n",
    "        @param eps: the minimum activity value\n",
    "        @param alpha: the exponent of the power law distribution\n",
    "    Returns\n",
    "    -------\n",
    "        @return: the sampled activity\n",
    "    \"\"\"\n",
    "    y = random.random()\n",
    "    a = (y + (1 - y) * (eps ** (1 - alpha))) ** (1 / (1 - alpha))\n",
    "    return a\n",
    "\n",
    "def sample_neighbours(index, m, N):\n",
    "    \"\"\"\n",
    "    This function samples the neighbours\n",
    "    Parameters\n",
    "    ----------\n",
    "        @param index: source node index\n",
    "        @param m: number of neighbours to sample\n",
    "        @param N: total number of nodes\n",
    "    Returns\n",
    "    -------\n",
    "        @return: the sampled neighbours\n",
    "    \"\"\"\n",
    "    return np.random.choice([idx for idx in range(N) if idx != index], size=m)"
   ]
  },
  {
   "cell_type": "markdown",
   "metadata": {},
   "source": [
    "Then, we define a function to simulate the SIR model on activity driven networks. We notice how it is not necessary to simulate the whole network, but we are only interested in generating the links that may results in an infection (i.e., the only transition mediated by interactions)"
   ]
  },
  {
   "cell_type": "code",
   "execution_count": null,
   "metadata": {},
   "outputs": [],
   "source": [
    "def initialize(i0, N):\n",
    "    \"\"\"\n",
    "    This function initializes the network assigning a health status to each node\n",
    "    Parameters\n",
    "    ----------\n",
    "        @param i0: initial fraction of infected nodes\n",
    "        @param N: total number of nodes\n",
    "    Returns\n",
    "    -------\n",
    "        @return: total number of S, I, R nodes and list of susceptible/infected indicators\n",
    "    \"\"\"\n",
    "    return 0\n",
    "\n",
    "\n",
    "def simulate(i0, N, mu, m, lambda_val, T, activities):\n",
    "    \"\"\"\n",
    "    This function simulated the SIR model on activity driven network\n",
    "    Parameters\n",
    "    ----------\n",
    "        @param i0: initial fraction of infected nodes\n",
    "        @param N: total number of nodes\n",
    "        @param mu: recovery rate\n",
    "        @param m: number of neighbours to sample\n",
    "        @param lambda_val: transmission rate of a single contact\n",
    "        @param T: number of simulation steps\n",
    "        @param activities: nodes activities\n",
    "    Returns\n",
    "    -------\n",
    "        @return: simulated incidence and evolution of different compartments\n",
    "    \"\"\"\n",
    "    \n",
    "    # intialize\n",
    "\n",
    "    # simulate \n",
    "\n",
    "    return 0"
   ]
  },
  {
   "cell_type": "markdown",
   "metadata": {},
   "source": [
    "Finally, we test the function and plot the results:"
   ]
  },
  {
   "cell_type": "code",
   "execution_count": null,
   "metadata": {},
   "outputs": [],
   "source": [
    "activities = np.array([sample_activity(eps=10**(-3), alpha=2.1) for i in range(5000)])\n",
    "# ... = simulate(i0=0.05, N=5000, mu=0.01, m=2, lambda_val=0.5, T=1000, activities=activities)"
   ]
  },
  {
   "cell_type": "code",
   "execution_count": null,
   "metadata": {},
   "outputs": [],
   "source": [
    "fig, axes = plt.subplots(nrows=2, sharex=True, dpi=300, figsize=(10,7))"
   ]
  },
  {
   "cell_type": "code",
   "execution_count": null,
   "metadata": {},
   "outputs": [],
   "source": []
  }
 ],
 "metadata": {
  "kernelspec": {
   "display_name": "base",
   "language": "python",
   "name": "python3"
  },
  "language_info": {
   "codemirror_mode": {
    "name": "ipython",
    "version": 3
   },
   "file_extension": ".py",
   "mimetype": "text/x-python",
   "name": "python",
   "nbconvert_exporter": "python",
   "pygments_lexer": "ipython3",
   "version": "3.8.8"
  }
 },
 "nbformat": 4,
 "nbformat_minor": 2
}
